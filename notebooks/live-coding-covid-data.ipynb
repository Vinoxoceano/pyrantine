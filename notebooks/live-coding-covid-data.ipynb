{
 "cells": [
  {
   "cell_type": "code",
   "execution_count": 1,
   "metadata": {},
   "outputs": [],
   "source": [
    "import pandas as pd\n",
    "\n",
    "\n",
    "df = pd.read_csv(\n",
    "    \"covid19-3968571bed624b8ebca4ef6dff278ae6.csv\",\n",
    "    index_col=\"date\",\n",
    "    parse_dates=True,\n",
    ")"
   ]
  },
  {
   "cell_type": "code",
   "execution_count": 2,
   "metadata": {},
   "outputs": [],
   "source": [
    "SC = df.loc[df[\"state\"] == \"SC\"]"
   ]
  },
  {
   "cell_type": "code",
   "execution_count": 3,
   "metadata": {},
   "outputs": [
    {
     "data": {
      "text/plain": [
       "{'Abelardo Luz',\n",
       " 'Antônio Carlos',\n",
       " 'Araranguá',\n",
       " 'Balneário Arroio do Silva',\n",
       " 'Balneário Camboriú',\n",
       " 'Balneário Gaivota',\n",
       " 'Biguaçu',\n",
       " 'Blumenau',\n",
       " 'Braço do Norte',\n",
       " 'Brusque',\n",
       " 'Camboriú',\n",
       " 'Canelinha',\n",
       " 'Chapecó',\n",
       " 'Criciúma',\n",
       " 'Florianópolis',\n",
       " 'Gaspar',\n",
       " 'Governador Celso Ramos',\n",
       " 'Gravatal',\n",
       " 'Imbituba',\n",
       " 'Importados/Indefinidos',\n",
       " 'Indaial',\n",
       " 'Irati',\n",
       " 'Itajaí',\n",
       " 'Itapema',\n",
       " 'Itapiranga',\n",
       " 'Içara',\n",
       " 'Jaguaruna',\n",
       " 'Jaraguá do Sul',\n",
       " 'Joaçaba',\n",
       " 'Joinville',\n",
       " 'Lages',\n",
       " 'Laguna',\n",
       " 'Mafra',\n",
       " 'Morro da Fumaça',\n",
       " 'Navegantes',\n",
       " 'Palhoça',\n",
       " 'Papanduva',\n",
       " 'Paulo Lopes',\n",
       " 'Pedras Grandes',\n",
       " 'Pescaria Brava',\n",
       " 'Pomerode',\n",
       " 'Porto Belo',\n",
       " 'Rancho Queimado',\n",
       " 'Siderópolis',\n",
       " 'Sombrio',\n",
       " 'São Francisco do Sul',\n",
       " 'São José',\n",
       " 'São Lourenço do Oeste',\n",
       " 'São Ludgero',\n",
       " 'São Pedro de Alcântara',\n",
       " 'Tijucas',\n",
       " 'Timbé do Sul',\n",
       " 'Tubarão',\n",
       " 'Urussanga',\n",
       " nan}"
      ]
     },
     "execution_count": 3,
     "metadata": {},
     "output_type": "execute_result"
    }
   ],
   "source": [
    "set(SC[\"city\"])"
   ]
  },
  {
   "cell_type": "code",
   "execution_count": 4,
   "metadata": {},
   "outputs": [
    {
     "data": {
      "text/plain": [
       "<matplotlib.axes._subplots.AxesSubplot at 0x7fd5678b7df0>"
      ]
     },
     "execution_count": 4,
     "metadata": {},
     "output_type": "execute_result"
    },
    {
     "data": {
      "image/png": "[encoded data removed]",
      "text/plain": [
       "<Figure size 432x288 with 1 Axes>"
      ]
     },
     "metadata": {
      "needs_background": "light"
     },
     "output_type": "display_data"
    }
   ],
   "source": [
    "floripa = SC.loc[SC[\"city\"] == \"Florianópolis\"]\n",
    "\n",
    "\n",
    "floripa[\"confirmed\"].sort_index().cumsum().plot()"
   ]
  }
 ],
 "metadata": {
  "kernelspec": {
   "display_name": "Python 3",
   "language": "python",
   "name": "python3"
  },
  "language_info": {
   "codemirror_mode": {
    "name": "ipython",
    "version": 3
   },
   "file_extension": ".py",
   "mimetype": "text/x-python",
   "name": "python",
   "nbconvert_exporter": "python",
   "pygments_lexer": "ipython3",
   "version": "3.8.2"
  }
 },
 "nbformat": 4,
 "nbformat_minor": 4
}
