{
 "cells": [
  {
   "cell_type": "code",
   "execution_count": null,
   "metadata": {},
   "outputs": [],
   "source": [
    "import cdsapi\n",
    "\n",
    "\n",
    "c = cdsapi.Client()\n",
    "\n",
    "name = \"reanalysis-era5-pressure-levels\"\n",
    "request = {\n",
    "        \"year\"          : \"2008\",\n",
    "        \"month\"         : \"01\",\n",
    "        \"day\"           : \"01\",\n",
    "        \"time\"          : \"12:00\",\n",
    "        \"variable\"      : \"temperature\",\n",
    "        \"pressure_level\": \"1000\",\n",
    "        \"product_type\"  : \"reanalysis\",\n",
    "        \"format\"        : \"netcdf\"\n",
    "    }\n",
    "\n",
    "r = c.retrieve(name, request, None)"
   ]
  },
  {
   "cell_type": "code",
   "execution_count": null,
   "metadata": {},
   "outputs": [],
   "source": [
    "import fsspec\n",
    "import xarray as xr\n",
    "\n",
    "\n",
    "with fsspec.open(r.location) as f:\n",
    "    ds = xr.open_dataset(f)"
   ]
  },
  {
   "cell_type": "code",
   "execution_count": null,
   "metadata": {},
   "outputs": [],
   "source": [
    "ds"
   ]
  },
  {
   "cell_type": "code",
   "execution_count": null,
   "metadata": {},
   "outputs": [],
   "source": [
    "%matplotlib inline\n",
    "temp = ds[\"t\"].squeeze()\n",
    "\n",
    "temp.plot();"
   ]
  }
 ],
 "metadata": {
  "kernelspec": {
   "display_name": "Python 3",
   "language": "python",
   "name": "python3"
  },
  "language_info": {
   "codemirror_mode": {
    "name": "ipython",
    "version": 3
   },
   "file_extension": ".py",
   "mimetype": "text/x-python",
   "name": "python",
   "nbconvert_exporter": "python",
   "pygments_lexer": "ipython3",
   "version": "3.8.2"
  }
 },
 "nbformat": 4,
 "nbformat_minor": 4
}
