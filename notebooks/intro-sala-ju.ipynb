{
 "cells": [
  {
   "cell_type": "code",
   "execution_count": null,
   "metadata": {},
   "outputs": [],
   "source": [
    "%matplotlib inline\n",
    "\n",
    "from pathlib import Path\n",
    "import matplotlib.pyplot as plt\n",
    "import pandas as pd\n",
    "\n",
    "\n",
    "df = pd.read_csv(\n",
    "    Path(\"data\", \"sala-ju-temperature.txt\"),\n",
    "    names=[\"time\", \"temperature\", \"light\"],\n",
    "    index_col=\"time\",\n",
    ")\n",
    "\n",
    "\n",
    "df.index = pd.TimedeltaIndex(df.index, unit=\"s\")\n",
    "df = df.resample(rule=\"15min\").mean()"
   ]
  },
  {
   "cell_type": "code",
   "execution_count": null,
   "metadata": {},
   "outputs": [],
   "source": [
    "fig, ax = plt.subplots(figsize=(13, 3.75))\n",
    "\n",
    "df.plot(ax=ax, secondary_y=[\"light\"])\n",
    "ax.axhline(y=26, color=\"k\");"
   ]
  }
 ],
 "metadata": {
  "_draft": {
   "nbviewer_url": "https://gist.github.com/30792f8ea8ab3fc6df5e95a7f99b0b07"
  },
  "gist": {
   "data": {
    "description": "sala-ju.ipynb",
    "public": true
   },
   "id": "30792f8ea8ab3fc6df5e95a7f99b0b07"
  },
  "kernelspec": {
   "display_name": "Python 3",
   "language": "python",
   "name": "python3"
  },
  "language_info": {
   "codemirror_mode": {
    "name": "ipython",
    "version": 3
   },
   "file_extension": ".py",
   "mimetype": "text/x-python",
   "name": "python",
   "nbconvert_exporter": "python",
   "pygments_lexer": "ipython3",
   "version": "3.8.2"
  }
 },
 "nbformat": 4,
 "nbformat_minor": 4
}
