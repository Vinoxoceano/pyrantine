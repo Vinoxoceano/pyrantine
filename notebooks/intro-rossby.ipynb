{
 "cells": [
  {
   "cell_type": "markdown",
   "metadata": {},
   "source": [
    "# $ L = \\frac{\\sqrt{gD}} {f} $"
   ]
  },
  {
   "cell_type": "code",
   "execution_count": null,
   "metadata": {},
   "outputs": [],
   "source": [
    "import numpy as np\n",
    "import gsw\n",
    "\n",
    "\n",
    "lon, lat = -48.48, -27.63\n",
    "\n",
    "f = np.abs(gsw.f(lat))\n",
    "g = gsw.grav(lat, 0)\n",
    "D = 5  # depth in m\n",
    "\n",
    "L = np.sqrt(g*D) / f\n",
    "\n",
    "L / 1e3  # km"
   ]
  },
  {
   "cell_type": "code",
   "execution_count": null,
   "metadata": {},
   "outputs": [],
   "source": [
    "import folium\n",
    "from folium.plugins import MeasureControl\n",
    "\n",
    "\n",
    "m = folium.Map(location=[lat, lon])\n",
    "MeasureControl().add_to(m)\n",
    "m"
   ]
  }
 ],
 "metadata": {
  "kernelspec": {
   "display_name": "Python 3",
   "language": "python",
   "name": "python3"
  },
  "language_info": {
   "codemirror_mode": {
    "name": "ipython",
    "version": 3
   },
   "file_extension": ".py",
   "mimetype": "text/x-python",
   "name": "python",
   "nbconvert_exporter": "python",
   "pygments_lexer": "ipython3",
   "version": "3.8.2"
  }
 },
 "nbformat": 4,
 "nbformat_minor": 4
}
