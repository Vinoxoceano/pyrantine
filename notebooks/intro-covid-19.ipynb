{
 "cells": [
  {
   "cell_type": "code",
   "execution_count": null,
   "metadata": {},
   "outputs": [],
   "source": [
    "import pandas as pd\n",
    "\n",
    "\n",
    "# https://brasil.io/dataset/covid19/caso\n",
    "df = pd.read_csv(\n",
    "    \"covid19-3968571bed624b8ebca4ef6dff278ae6.csv\",\n",
    "    index_col=\"date\",\n",
    "    parse_dates=True,\n",
    ")"
   ]
  },
  {
   "cell_type": "code",
   "execution_count": null,
   "metadata": {},
   "outputs": [],
   "source": [
    "states = {}\n",
    "groups = df.groupby(\"state\")\n",
    "for state, group in groups:\n",
    "    series = group[\"deaths\"].resample(\"1D\").sum()\n",
    "    states.update({state: series})"
   ]
  },
  {
   "cell_type": "code",
   "execution_count": null,
   "metadata": {},
   "outputs": [],
   "source": [
    "states"
   ]
  },
  {
   "cell_type": "code",
   "execution_count": null,
   "metadata": {},
   "outputs": [],
   "source": [
    "states = pd.DataFrame(states)\n",
    "states = states.reset_index().melt(\"date\")"
   ]
  },
  {
   "cell_type": "code",
   "execution_count": null,
   "metadata": {},
   "outputs": [],
   "source": [
    "df.loc[df[\"city\"] == \"São Paulo\"][\"deaths\"]"
   ]
  },
  {
   "cell_type": "code",
   "execution_count": null,
   "metadata": {},
   "outputs": [],
   "source": [
    "import altair\n",
    "\n",
    "\n",
    "input_dropdown = altair.binding_select(\n",
    "    options=sorted(set(states[\"variable\"]))\n",
    ")\n",
    "\n",
    "selection = altair.selection_single(\n",
    "    fields=[\"variable\"],\n",
    "    bind=input_dropdown,\n",
    "    name=\"variable\"\n",
    ")\n",
    "\n",
    "color = altair.condition(\n",
    "    selection,\n",
    "    altair.Color(\"variable:N\", legend=None),\n",
    "    altair.value(\"lightgray\")\n",
    ")\n",
    "\n",
    "altair.Chart(states).mark_point().encode(\n",
    "    x=\"date\",\n",
    "    y=\"value\",\n",
    "    color=color,\n",
    "    tooltip=\"value:N\"\n",
    ").add_selection(\n",
    "    selection\n",
    ").interactive()"
   ]
  }
 ],
 "metadata": {
  "kernelspec": {
   "display_name": "Python 3",
   "language": "python",
   "name": "python3"
  },
  "language_info": {
   "codemirror_mode": {
    "name": "ipython",
    "version": 3
   },
   "file_extension": ".py",
   "mimetype": "text/x-python",
   "name": "python",
   "nbconvert_exporter": "python",
   "pygments_lexer": "ipython3",
   "version": "3.8.2"
  }
 },
 "nbformat": 4,
 "nbformat_minor": 4
}
